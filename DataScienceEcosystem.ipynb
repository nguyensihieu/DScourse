{
 "cells": [
  {
   "cell_type": "markdown",
   "id": "a971e476-bc09-43bf-82b4-8db6a5f6a16c",
   "metadata": {
    "tags": []
   },
   "source": [
    "# Data Science Tools and Ecosystem"
   ]
  },
  {
   "cell_type": "markdown",
   "id": "037df9e1-ed5a-45c8-8b80-fb2355bd3f02",
   "metadata": {
    "tags": []
   },
   "source": [
    "<a name='5'></a>\n",
    "In this notebook, Data Science Tools and Ecosystem are summarized."
   ]
  },
  {
   "cell_type": "markdown",
   "id": "d6e33ed9-99e4-42b9-b8df-577be49a1c15",
   "metadata": {
    "tags": []
   },
   "source": [
    "**Objectives:**\n",
    "- Some of the popular languages \n",
    "- Some of the commonly used libraries\n",
    "- Some Data Science Tools"
   ]
  },
  {
   "cell_type": "markdown",
   "id": "0e2b90e7-fcda-4ffc-bd98-cadc9b12dde4",
   "metadata": {
    "tags": []
   },
   "source": [
    "Some of the popular languages that Data Scientists use are:\n",
    "1. Python\n",
    "2. R\n",
    "3. Scala"
   ]
  },
  {
   "cell_type": "markdown",
   "id": "47cfed7e-1d01-4f16-8430-9df884808064",
   "metadata": {},
   "source": [
    "Some of the commonly used libraries used by Data Scientists include:\n",
    "1. Numpy\n",
    "2. Matplotlib\n",
    "3. Pandas"
   ]
  },
  {
   "cell_type": "markdown",
   "id": "cacbe7fa-c2b1-486b-9220-c26f92f116db",
   "metadata": {
    "tags": []
   },
   "source": [
    "|Data Science Tools|\n",
    "|:----------------:|\n",
    "|RStudio|\n",
    "|Apache Spark|\n",
    "|TensorFlow|"
   ]
  },
  {
   "cell_type": "markdown",
   "id": "23faac27-75c9-4cc6-955b-0bdc16e40400",
   "metadata": {},
   "source": [
    "### Below are a few examples of evaluating arithmetic expressions in Python"
   ]
  },
  {
   "cell_type": "code",
   "execution_count": 6,
   "id": "773783a9-2366-4d23-b64b-4a2e72df45bc",
   "metadata": {
    "tags": []
   },
   "outputs": [
    {
     "data": {
      "text/plain": [
       "17"
      ]
     },
     "execution_count": 6,
     "metadata": {},
     "output_type": "execute_result"
    }
   ],
   "source": [
    "#This a simple arithmetic expression to mutiply then add integers\n",
    "(3*4)+5"
   ]
  },
  {
   "cell_type": "code",
   "execution_count": 10,
   "id": "156855cf-3b17-4544-b576-768168a7413b",
   "metadata": {
    "tags": []
   },
   "outputs": [
    {
     "name": "stdout",
     "output_type": "stream",
     "text": [
      "3\n"
     ]
    }
   ],
   "source": [
    "#In this code cell write an expression that converts `200 minutes` into `hours`.\n",
    "minutes=200\n",
    "hours=minutes//60\n",
    "print(hours)"
   ]
  },
  {
   "cell_type": "markdown",
   "id": "eb80f007-266f-4a72-b09c-8415d5b59f0c",
   "metadata": {},
   "source": [
    "## Author\n",
    "NGUYEN SI HIEU"
   ]
  },
  {
   "cell_type": "code",
   "execution_count": null,
   "id": "3869f58c-9d42-4b0c-9f5f-95572cd3087f",
   "metadata": {},
   "outputs": [],
   "source": []
  }
 ],
 "metadata": {
  "kernelspec": {
   "display_name": "Python",
   "language": "python",
   "name": "conda-env-python-py"
  },
  "language_info": {
   "codemirror_mode": {
    "name": "ipython",
    "version": 3
   },
   "file_extension": ".py",
   "mimetype": "text/x-python",
   "name": "python",
   "nbconvert_exporter": "python",
   "pygments_lexer": "ipython3",
   "version": "3.7.12"
  }
 },
 "nbformat": 4,
 "nbformat_minor": 5
}
